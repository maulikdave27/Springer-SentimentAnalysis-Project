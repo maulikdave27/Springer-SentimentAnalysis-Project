{
 "cells": [
  {
   "cell_type": "markdown",
   "id": "62eb2670",
   "metadata": {},
   "source": [
    "Libraries used:\n",
    "1. NLTK\n",
    "2. Pandas"
   ]
  },
  {
   "cell_type": "code",
   "execution_count": 2,
   "id": "28105598",
   "metadata": {},
   "outputs": [],
   "source": [
    "#importing the main NLTK library\n",
    "import nltk\n"
   ]
  },
  {
   "cell_type": "code",
   "execution_count": 1,
   "id": "66f33397",
   "metadata": {},
   "outputs": [
    {
     "ename": "NameError",
     "evalue": "name 'nltk' is not defined",
     "output_type": "error",
     "traceback": [
      "\u001b[31m---------------------------------------------------------------------------\u001b[39m",
      "\u001b[31mNameError\u001b[39m                                 Traceback (most recent call last)",
      "\u001b[36mCell\u001b[39m\u001b[36m \u001b[39m\u001b[32mIn[1]\u001b[39m\u001b[32m, line 1\u001b[39m\n\u001b[32m----> \u001b[39m\u001b[32m1\u001b[39m \u001b[43mnltk\u001b[49m.download(\u001b[33m'\u001b[39m\u001b[33mall\u001b[39m\u001b[33m'\u001b[39m) \u001b[38;5;66;03m#To download nltk data files eg, tokenisers, corpora, pre-trained models, etc.\u001b[39;00m\n",
      "\u001b[31mNameError\u001b[39m: name 'nltk' is not defined"
     ]
    }
   ],
   "source": [
    "nltk.download('all') #To download nltk data files eg, tokenisers, corpora, pre-trained models, etc."
   ]
  },
  {
   "cell_type": "code",
   "execution_count": 3,
   "id": "e839e096",
   "metadata": {},
   "outputs": [],
   "source": [
    "#Import all the specific NLTK modules needed for the task 1\n",
    "from nltk.corpus import stopwords\n",
    "from nltk.tokenize import word_tokenize\n",
    "from nltk.stem import WordNetLemmatizer\n",
    "from nltk.sentiment.vader import SentimentIntensityAnalyzer"
   ]
  },
  {
   "cell_type": "code",
   "execution_count": 4,
   "id": "458b695d",
   "metadata": {},
   "outputs": [
    {
     "data": {
      "text/html": [
       "<div>\n",
       "<style scoped>\n",
       "    .dataframe tbody tr th:only-of-type {\n",
       "        vertical-align: middle;\n",
       "    }\n",
       "\n",
       "    .dataframe tbody tr th {\n",
       "        vertical-align: top;\n",
       "    }\n",
       "\n",
       "    .dataframe thead th {\n",
       "        text-align: right;\n",
       "    }\n",
       "</style>\n",
       "<table border=\"1\" class=\"dataframe\">\n",
       "  <thead>\n",
       "    <tr style=\"text-align: right;\">\n",
       "      <th></th>\n",
       "      <th>Subject</th>\n",
       "      <th>body</th>\n",
       "      <th>date</th>\n",
       "      <th>from</th>\n",
       "    </tr>\n",
       "  </thead>\n",
       "  <tbody>\n",
       "    <tr>\n",
       "      <th>0</th>\n",
       "      <td>EnronOptions Update!</td>\n",
       "      <td>EnronOptions Announcement\\n\\n\\nWe have updated...</td>\n",
       "      <td>5/10/2010</td>\n",
       "      <td>sally.beck@enron.com</td>\n",
       "    </tr>\n",
       "    <tr>\n",
       "      <th>1</th>\n",
       "      <td>(No Subject)</td>\n",
       "      <td>Marc,\\n\\nUnfortunately, today is not going to ...</td>\n",
       "      <td>7/29/2010</td>\n",
       "      <td>eric.bass@enron.com</td>\n",
       "    </tr>\n",
       "  </tbody>\n",
       "</table>\n",
       "</div>"
      ],
      "text/plain": [
       "                Subject                                               body  \\\n",
       "0  EnronOptions Update!  EnronOptions Announcement\\n\\n\\nWe have updated...   \n",
       "1          (No Subject)  Marc,\\n\\nUnfortunately, today is not going to ...   \n",
       "\n",
       "        date                  from  \n",
       "0  5/10/2010  sally.beck@enron.com  \n",
       "1  7/29/2010   eric.bass@enron.com  "
      ]
     },
     "execution_count": 4,
     "metadata": {},
     "output_type": "execute_result"
    }
   ],
   "source": [
    "import pandas as pd\n",
    "#Reading the CSV Data\n",
    "df = pd.read_csv('data/test.csv', date_format=['date'])\n",
    "df.head(2) "
   ]
  },
  {
   "cell_type": "markdown",
   "id": "0495771d",
   "metadata": {},
   "source": [
    "Phase 1: Preprocessing Text\n",
    "In this phase the text provided in the test.csv data file will be preprocessed to make it ready for sentiment analysis\n",
    "Steps included:\n",
    "1. Tokenisation\n",
    "2. Stop word removal\n",
    "3. Lemmatization"
   ]
  },
  {
   "cell_type": "code",
   "execution_count": 5,
   "id": "a2bafffb",
   "metadata": {},
   "outputs": [],
   "source": [
    "def preprocessing(text):\n",
    "    #tokenization:\n",
    "    tokens = word_tokenize(text.lower())\n",
    "\n",
    "    #Removing Stopwords:\n",
    "    stop_wrds = set(stopwords.words('english'))\n",
    "    token = [token for token in tokens if token not in stop_wrds]\n",
    "\n",
    "    #Lemmatization:\n",
    "    lemmatizer = WordNetLemmatizer()\n",
    "    token = [lemmatizer.lemmatize(token) for token in token]\n",
    "\n",
    "    processed_txt = ' '.join(token)\n",
    "    return processed_txt\n",
    "\n",
    "#Applying the preprocessing function:\n",
    "df['processed_text'] = df['body'].apply(preprocessing)"
   ]
  },
  {
   "cell_type": "markdown",
   "id": "35059de4",
   "metadata": {},
   "source": [
    "Phase 2 Sentimental analysis\n",
    "Using NLTK's sentimental vader library, the preprocessed text will be fed into the library which gives out a score between -1 to 1"
   ]
  },
  {
   "cell_type": "code",
   "execution_count": 6,
   "id": "7ed0328d",
   "metadata": {},
   "outputs": [],
   "source": [
    "analyzer = SentimentIntensityAnalyzer() #intitialization\n",
    "\n",
    "def sentiment_analysis(text):\n",
    "    score = analyzer.polarity_scores(text)\n",
    "    if score['compound'] >= 0.05:       #if the score is greater than or equal to 0.05 the text is termed +ve, using compund to get the normalised total score \n",
    "        return 'positive'\n",
    "    elif score['compound'] <= -0.05:    #if the score is less than or equal to -0.05 the text is termed -ve, using compund to get the normalised total score \n",
    "        return 'negative'\n",
    "    else:\n",
    "        return 'neutral'\n",
    "\n",
    "#Applying the sentiment_analysis function:\n",
    "df['sentiment'] = df['processed_text'].apply(sentiment_analysis)\n",
    "def sentiment_score_analysis(text):\n",
    "    score = analyzer.polarity_scores(text)\n",
    "    if score['compound'] >= 0.05:       #if the score is greater than or equal to 0.05 the text is termed +ve, using compund to get the normalised total score \n",
    "        return 1\n",
    "    elif score['compound'] <= -0.05:    #if the score is less than or equal to -0.05 the text is termed -ve, using compund to get the normalised total score \n",
    "        return -1\n",
    "    else:\n",
    "        return 0\n",
    "df['sentiment_score'] = df['processed_text'].apply(sentiment_score_analysis)\n",
    "    "
   ]
  },
  {
   "cell_type": "code",
   "execution_count": 7,
   "id": "8f6a675a",
   "metadata": {},
   "outputs": [
    {
     "name": "stdout",
     "output_type": "stream",
     "text": [
      "sentiment\n",
      "positive    1568\n",
      "neutral      502\n",
      "negative     121\n",
      "Name: count, dtype: int64\n"
     ]
    }
   ],
   "source": [
    "#to count the values of +ve -ve and neutral\n",
    "number = df['sentiment'].value_counts()\n",
    "print(number)"
   ]
  },
  {
   "cell_type": "code",
   "execution_count": 8,
   "id": "e9e5e518",
   "metadata": {},
   "outputs": [],
   "source": [
    "#Saving the result to a csv file\n",
    "df.to_csv('result/task1_result.csv', index=False)"
   ]
  }
 ],
 "metadata": {
  "kernelspec": {
   "display_name": "Python 3",
   "language": "python",
   "name": "python3"
  },
  "language_info": {
   "codemirror_mode": {
    "name": "ipython",
    "version": 3
   },
   "file_extension": ".py",
   "mimetype": "text/x-python",
   "name": "python",
   "nbconvert_exporter": "python",
   "pygments_lexer": "ipython3",
   "version": "3.13.5"
  }
 },
 "nbformat": 4,
 "nbformat_minor": 5
}
