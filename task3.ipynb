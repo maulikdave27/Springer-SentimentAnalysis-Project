{
 "cells": [
  {
   "cell_type": "markdown",
   "id": "50b284bd",
   "metadata": {},
   "source": [
    "Libraries used in the code\n",
    "1. Pandas\n",
    "2. Datetime"
   ]
  },
  {
   "cell_type": "markdown",
   "id": "a9a1a044",
   "metadata": {},
   "source": [
    "Format of result\n",
    "\n",
    "Employee email('from'),sentiment_score_mnth1,sentiment_score_mnth2,sentiment_score_mnth3..."
   ]
  },
  {
   "cell_type": "code",
   "execution_count": 2,
   "id": "b82144ea",
   "metadata": {},
   "outputs": [],
   "source": [
    "#importing libraries\n",
    "import pandas as pd \n",
    "import datetime as dt"
   ]
  },
  {
   "cell_type": "code",
   "execution_count": 13,
   "id": "a821e431",
   "metadata": {},
   "outputs": [
    {
     "data": {
      "text/html": [
       "<div>\n",
       "<style scoped>\n",
       "    .dataframe tbody tr th:only-of-type {\n",
       "        vertical-align: middle;\n",
       "    }\n",
       "\n",
       "    .dataframe tbody tr th {\n",
       "        vertical-align: top;\n",
       "    }\n",
       "\n",
       "    .dataframe thead th {\n",
       "        text-align: right;\n",
       "    }\n",
       "</style>\n",
       "<table border=\"1\" class=\"dataframe\">\n",
       "  <thead>\n",
       "    <tr style=\"text-align: right;\">\n",
       "      <th></th>\n",
       "      <th>Subject</th>\n",
       "      <th>body</th>\n",
       "      <th>date</th>\n",
       "      <th>from</th>\n",
       "      <th>processed_text</th>\n",
       "      <th>sentiment</th>\n",
       "      <th>sentiment_score</th>\n",
       "    </tr>\n",
       "  </thead>\n",
       "  <tbody>\n",
       "    <tr>\n",
       "      <th>0</th>\n",
       "      <td>EnronOptions Update!</td>\n",
       "      <td>EnronOptions Announcement\\n\\n\\nWe have updated...</td>\n",
       "      <td>5/10/2010</td>\n",
       "      <td>sally.beck@enron.com</td>\n",
       "      <td>enronoptions announcement updated enronoptions...</td>\n",
       "      <td>positive</td>\n",
       "      <td>1</td>\n",
       "    </tr>\n",
       "    <tr>\n",
       "      <th>1</th>\n",
       "      <td>(No Subject)</td>\n",
       "      <td>Marc,\\n\\nUnfortunately, today is not going to ...</td>\n",
       "      <td>7/29/2010</td>\n",
       "      <td>eric.bass@enron.com</td>\n",
       "      <td>marc , unfortunately , today going work revenu...</td>\n",
       "      <td>positive</td>\n",
       "      <td>1</td>\n",
       "    </tr>\n",
       "    <tr>\n",
       "      <th>2</th>\n",
       "      <td>Phone Screen  Interview - Shannon L. Burnham</td>\n",
       "      <td>When: Wednesday, June 06, 2001 10:00 AM-11:00 ...</td>\n",
       "      <td>7/25/2011</td>\n",
       "      <td>sally.beck@enron.com</td>\n",
       "      <td>: wednesday , june 06 , 2001 10:00 am-11:00 ( ...</td>\n",
       "      <td>neutral</td>\n",
       "      <td>0</td>\n",
       "    </tr>\n",
       "  </tbody>\n",
       "</table>\n",
       "</div>"
      ],
      "text/plain": [
       "                                        Subject  \\\n",
       "0                          EnronOptions Update!   \n",
       "1                                  (No Subject)   \n",
       "2  Phone Screen  Interview - Shannon L. Burnham   \n",
       "\n",
       "                                                body       date  \\\n",
       "0  EnronOptions Announcement\\n\\n\\nWe have updated...  5/10/2010   \n",
       "1  Marc,\\n\\nUnfortunately, today is not going to ...  7/29/2010   \n",
       "2  When: Wednesday, June 06, 2001 10:00 AM-11:00 ...  7/25/2011   \n",
       "\n",
       "                   from                                     processed_text  \\\n",
       "0  sally.beck@enron.com  enronoptions announcement updated enronoptions...   \n",
       "1   eric.bass@enron.com  marc , unfortunately , today going work revenu...   \n",
       "2  sally.beck@enron.com  : wednesday , june 06 , 2001 10:00 am-11:00 ( ...   \n",
       "\n",
       "  sentiment  sentiment_score  \n",
       "0  positive                1  \n",
       "1  positive                1  \n",
       "2   neutral                0  "
      ]
     },
     "execution_count": 13,
     "metadata": {},
     "output_type": "execute_result"
    }
   ],
   "source": [
    "#reading the csv data\n",
    "df = pd.read_csv('result/task1_result.csv', date_format='%m/%d/%Y')\n",
    "df.head(3)"
   ]
  },
  {
   "cell_type": "code",
   "execution_count": 14,
   "id": "af4d03a1",
   "metadata": {},
   "outputs": [
    {
     "data": {
      "text/plain": [
       "Subject             0\n",
       "body                0\n",
       "date                0\n",
       "from                0\n",
       "processed_text     31\n",
       "sentiment           0\n",
       "sentiment_score     0\n",
       "dtype: int64"
      ]
     },
     "execution_count": 14,
     "metadata": {},
     "output_type": "execute_result"
    }
   ],
   "source": [
    "df.isnull().sum()"
   ]
  },
  {
   "cell_type": "code",
   "execution_count": 15,
   "id": "abd45969",
   "metadata": {},
   "outputs": [
    {
     "data": {
      "text/plain": [
       "array(['sally.beck@enron.com', 'eric.bass@enron.com',\n",
       "       'johnny.palmer@enron.com', 'lydia.delgado@enron.com',\n",
       "       'kayne.coulter@enron.com', 'patti.thompson@enron.com',\n",
       "       'rhonda.denton@enron.com', 'don.baughman@enron.com',\n",
       "       'john.arnold@enron.com', 'bobette.riner@ipgdirect.com'],\n",
       "      dtype=object)"
      ]
     },
     "execution_count": 15,
     "metadata": {},
     "output_type": "execute_result"
    }
   ],
   "source": [
    "#find unique employees using 'from' column(email ids):\n",
    "unique_employees = df['from'].unique()\n",
    "unique_employees"
   ]
  },
  {
   "cell_type": "markdown",
   "id": "a27e5544",
   "metadata": {},
   "source": [
    "Dropping all the columns not needed for analysis of the employee_sentiment score"
   ]
  },
  {
   "cell_type": "code",
   "execution_count": 16,
   "id": "656b62d2",
   "metadata": {},
   "outputs": [],
   "source": [
    "df = df.drop('Subject', axis=1)  # Dropping the 'subject' column as it is not needed for analysis\n",
    "df = df.drop('body', axis=1) #Dropping the 'body' column as it is not needed for analysis\n",
    "df = df.drop('processed_text', axis=1) #Dropping the 'processed_text' column as it is not needed for analysis\n",
    "df = df.drop('sentiment', axis=1) #Dropping the 'sentiment' column as it is not needed for analysis"
   ]
  },
  {
   "cell_type": "code",
   "execution_count": null,
   "id": "c0071c1d",
   "metadata": {},
   "outputs": [],
   "source": [
    "df['date'] = pd.to_datetime(df['date']) #parsing date column to date time format\n",
    "df['month'] = df['date'].dt.to_period('M') #creating a new column for month"
   ]
  },
  {
   "cell_type": "code",
   "execution_count": null,
   "id": "4a45a414",
   "metadata": {},
   "outputs": [
    {
     "data": {
      "text/html": [
       "<div>\n",
       "<style scoped>\n",
       "    .dataframe tbody tr th:only-of-type {\n",
       "        vertical-align: middle;\n",
       "    }\n",
       "\n",
       "    .dataframe tbody tr th {\n",
       "        vertical-align: top;\n",
       "    }\n",
       "\n",
       "    .dataframe thead th {\n",
       "        text-align: right;\n",
       "    }\n",
       "</style>\n",
       "<table border=\"1\" class=\"dataframe\">\n",
       "  <thead>\n",
       "    <tr style=\"text-align: right;\">\n",
       "      <th></th>\n",
       "      <th>from</th>\n",
       "      <th>sentiment_score</th>\n",
       "      <th>month</th>\n",
       "    </tr>\n",
       "  </thead>\n",
       "  <tbody>\n",
       "    <tr>\n",
       "      <th>0</th>\n",
       "      <td>sally.beck@enron.com</td>\n",
       "      <td>1</td>\n",
       "      <td>2010-05</td>\n",
       "    </tr>\n",
       "    <tr>\n",
       "      <th>1</th>\n",
       "      <td>eric.bass@enron.com</td>\n",
       "      <td>1</td>\n",
       "      <td>2010-07</td>\n",
       "    </tr>\n",
       "    <tr>\n",
       "      <th>2</th>\n",
       "      <td>sally.beck@enron.com</td>\n",
       "      <td>0</td>\n",
       "      <td>2011-07</td>\n",
       "    </tr>\n",
       "    <tr>\n",
       "      <th>3</th>\n",
       "      <td>johnny.palmer@enron.com</td>\n",
       "      <td>0</td>\n",
       "      <td>2010-03</td>\n",
       "    </tr>\n",
       "    <tr>\n",
       "      <th>4</th>\n",
       "      <td>lydia.delgado@enron.com</td>\n",
       "      <td>1</td>\n",
       "      <td>2011-05</td>\n",
       "    </tr>\n",
       "    <tr>\n",
       "      <th>...</th>\n",
       "      <td>...</td>\n",
       "      <td>...</td>\n",
       "      <td>...</td>\n",
       "    </tr>\n",
       "    <tr>\n",
       "      <th>2186</th>\n",
       "      <td>johnny.palmer@enron.com</td>\n",
       "      <td>1</td>\n",
       "      <td>2011-06</td>\n",
       "    </tr>\n",
       "    <tr>\n",
       "      <th>2187</th>\n",
       "      <td>johnny.palmer@enron.com</td>\n",
       "      <td>1</td>\n",
       "      <td>2011-01</td>\n",
       "    </tr>\n",
       "    <tr>\n",
       "      <th>2188</th>\n",
       "      <td>don.baughman@enron.com</td>\n",
       "      <td>1</td>\n",
       "      <td>2011-01</td>\n",
       "    </tr>\n",
       "    <tr>\n",
       "      <th>2189</th>\n",
       "      <td>rhonda.denton@enron.com</td>\n",
       "      <td>1</td>\n",
       "      <td>2011-03</td>\n",
       "    </tr>\n",
       "    <tr>\n",
       "      <th>2190</th>\n",
       "      <td>johnny.palmer@enron.com</td>\n",
       "      <td>1</td>\n",
       "      <td>2010-10</td>\n",
       "    </tr>\n",
       "  </tbody>\n",
       "</table>\n",
       "<p>2191 rows × 3 columns</p>\n",
       "</div>"
      ],
      "text/plain": [
       "                         from  sentiment_score    month\n",
       "0        sally.beck@enron.com                1  2010-05\n",
       "1         eric.bass@enron.com                1  2010-07\n",
       "2        sally.beck@enron.com                0  2011-07\n",
       "3     johnny.palmer@enron.com                0  2010-03\n",
       "4     lydia.delgado@enron.com                1  2011-05\n",
       "...                       ...              ...      ...\n",
       "2186  johnny.palmer@enron.com                1  2011-06\n",
       "2187  johnny.palmer@enron.com                1  2011-01\n",
       "2188   don.baughman@enron.com                1  2011-01\n",
       "2189  rhonda.denton@enron.com                1  2011-03\n",
       "2190  johnny.palmer@enron.com                1  2010-10\n",
       "\n",
       "[2191 rows x 3 columns]"
      ]
     },
     "execution_count": 23,
     "metadata": {},
     "output_type": "execute_result"
    }
   ],
   "source": [
    "df.drop('date', axis=1) #removing the date column as it is not needed for analysis"
   ]
  },
  {
   "cell_type": "code",
   "execution_count": 27,
   "id": "74dfda71",
   "metadata": {},
   "outputs": [],
   "source": [
    "#Grouping 'from'(email) and 'month' and getting the sum of scores for each employee per month\n",
    "monthly_sentiment = df.groupby(['from', 'month'])['sentiment_score'].sum().reset_index()\n",
    "#pivot table for better readablity and align with the result format\n",
    "pivot_df = monthly_sentiment.pivot(index='from', columns='month', values='sentiment_score').fillna(0)"
   ]
  },
  {
   "cell_type": "code",
   "execution_count": 33,
   "id": "71bd5874",
   "metadata": {},
   "outputs": [],
   "source": [
    "pivot_df = pivot_df.reindex(unique_employees).fillna(0) #reindexing to ensure all employees are included\n",
    "pivot_df = pivot_df.sort_index(axis=1)\n",
    "\n",
    "pivot_df.head()\n",
    "\n",
    "pivot_df.to_csv('result/task3_result.csv', index=True, header=True)"
   ]
  }
 ],
 "metadata": {
  "kernelspec": {
   "display_name": "Python 3",
   "language": "python",
   "name": "python3"
  },
  "language_info": {
   "codemirror_mode": {
    "name": "ipython",
    "version": 3
   },
   "file_extension": ".py",
   "mimetype": "text/x-python",
   "name": "python",
   "nbconvert_exporter": "python",
   "pygments_lexer": "ipython3",
   "version": "3.13.5"
  }
 },
 "nbformat": 4,
 "nbformat_minor": 5
}
