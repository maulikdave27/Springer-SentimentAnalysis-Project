{
 "cells": [
  {
   "cell_type": "markdown",
   "id": "c515bfb2",
   "metadata": {},
   "source": [
    "This code uses Sklearn to create regression models that analyze sentiment trends and predict sentiment scores\n",
    "\n",
    "Libraries used:\n",
    "1. Pandas\n",
    "2. Sklearn"
   ]
  },
  {
   "cell_type": "code",
   "execution_count": 91,
   "id": "efb8a69c",
   "metadata": {},
   "outputs": [],
   "source": [
    "#importing Libraries\n",
    "import pandas as pd\n",
    "from sklearn.model_selection import train_test_split\n"
   ]
  },
  {
   "cell_type": "code",
   "execution_count": 92,
   "id": "f34ecf88",
   "metadata": {},
   "outputs": [
    {
     "data": {
      "text/html": [
       "<div>\n",
       "<style scoped>\n",
       "    .dataframe tbody tr th:only-of-type {\n",
       "        vertical-align: middle;\n",
       "    }\n",
       "\n",
       "    .dataframe tbody tr th {\n",
       "        vertical-align: top;\n",
       "    }\n",
       "\n",
       "    .dataframe thead th {\n",
       "        text-align: right;\n",
       "    }\n",
       "</style>\n",
       "<table border=\"1\" class=\"dataframe\">\n",
       "  <thead>\n",
       "    <tr style=\"text-align: right;\">\n",
       "      <th></th>\n",
       "      <th>date</th>\n",
       "      <th>processed_text</th>\n",
       "      <th>sentiment_score</th>\n",
       "    </tr>\n",
       "  </thead>\n",
       "  <tbody>\n",
       "    <tr>\n",
       "      <th>0</th>\n",
       "      <td>5/10/2010</td>\n",
       "      <td>enronoptions announcement updated enronoptions...</td>\n",
       "      <td>1</td>\n",
       "    </tr>\n",
       "    <tr>\n",
       "      <th>1</th>\n",
       "      <td>7/29/2010</td>\n",
       "      <td>marc , unfortunately , today going work revenu...</td>\n",
       "      <td>1</td>\n",
       "    </tr>\n",
       "    <tr>\n",
       "      <th>2</th>\n",
       "      <td>7/25/2011</td>\n",
       "      <td>: wednesday , june 06 , 2001 10:00 am-11:00 ( ...</td>\n",
       "      <td>0</td>\n",
       "    </tr>\n",
       "    <tr>\n",
       "      <th>3</th>\n",
       "      <td>3/25/2010</td>\n",
       "      <td>thinking papasitos ( meet somewhere closer tim...</td>\n",
       "      <td>0</td>\n",
       "    </tr>\n",
       "    <tr>\n",
       "      <th>4</th>\n",
       "      <td>5/21/2011</td>\n",
       "      <td>since never gave $ 20 last time bet cu/texas ,...</td>\n",
       "      <td>1</td>\n",
       "    </tr>\n",
       "  </tbody>\n",
       "</table>\n",
       "</div>"
      ],
      "text/plain": [
       "        date                                     processed_text  \\\n",
       "0  5/10/2010  enronoptions announcement updated enronoptions...   \n",
       "1  7/29/2010  marc , unfortunately , today going work revenu...   \n",
       "2  7/25/2011  : wednesday , june 06 , 2001 10:00 am-11:00 ( ...   \n",
       "3  3/25/2010  thinking papasitos ( meet somewhere closer tim...   \n",
       "4  5/21/2011  since never gave $ 20 last time bet cu/texas ,...   \n",
       "\n",
       "   sentiment_score  \n",
       "0                1  \n",
       "1                1  \n",
       "2                0  \n",
       "3                0  \n",
       "4                1  "
      ]
     },
     "execution_count": 92,
     "metadata": {},
     "output_type": "execute_result"
    }
   ],
   "source": [
    "#reading Dataset\n",
    "df = pd.read_csv('result/task1_result.csv')\n",
    "#Removing Unwanted Columns\n",
    "columns_to_drop = ['Subject', 'body', 'from','sentiment']  # Convert tuple to list\n",
    "# Dropping the columns\n",
    "df.drop(columns=columns_to_drop, inplace=True)\n",
    "df.head()"
   ]
  },
  {
   "cell_type": "code",
   "execution_count": 93,
   "id": "3519bd51",
   "metadata": {},
   "outputs": [],
   "source": [
    "# Getting message frequency in a month, message length, average message length, word count from the data and adding it to a new csv file\n",
    "df['message_frequency'] = df.groupby('date')['date'].transform('count')\n",
    "df['message_length'] = df['processed_text'].str.len()\n",
    "df['average_message_length'] = df['message_length'] / df['message_frequency']\n",
    "df['word_count'] = df['processed_text'].str.split().str.len()\n",
    "# Saving the modified DataFrame to a new CSV file\n",
    "df.to_csv('result/task6_pretrain.csv', index=False)\n",
    "\n"
   ]
  },
  {
   "cell_type": "code",
   "execution_count": 94,
   "id": "366aba4c",
   "metadata": {},
   "outputs": [
    {
     "data": {
      "text/html": [
       "<div>\n",
       "<style scoped>\n",
       "    .dataframe tbody tr th:only-of-type {\n",
       "        vertical-align: middle;\n",
       "    }\n",
       "\n",
       "    .dataframe tbody tr th {\n",
       "        vertical-align: top;\n",
       "    }\n",
       "\n",
       "    .dataframe thead th {\n",
       "        text-align: right;\n",
       "    }\n",
       "</style>\n",
       "<table border=\"1\" class=\"dataframe\">\n",
       "  <thead>\n",
       "    <tr style=\"text-align: right;\">\n",
       "      <th></th>\n",
       "      <th>date</th>\n",
       "      <th>processed_text</th>\n",
       "      <th>sentiment_score</th>\n",
       "      <th>message_frequency</th>\n",
       "      <th>message_length</th>\n",
       "      <th>average_message_length</th>\n",
       "      <th>word_count</th>\n",
       "    </tr>\n",
       "  </thead>\n",
       "  <tbody>\n",
       "    <tr>\n",
       "      <th>0</th>\n",
       "      <td>5/10/2010</td>\n",
       "      <td>enronoptions announcement updated enronoptions...</td>\n",
       "      <td>1</td>\n",
       "      <td>4</td>\n",
       "      <td>571.0</td>\n",
       "      <td>142.750000</td>\n",
       "      <td>83.0</td>\n",
       "    </tr>\n",
       "    <tr>\n",
       "      <th>1</th>\n",
       "      <td>7/29/2010</td>\n",
       "      <td>marc , unfortunately , today going work revenu...</td>\n",
       "      <td>1</td>\n",
       "      <td>5</td>\n",
       "      <td>230.0</td>\n",
       "      <td>46.000000</td>\n",
       "      <td>45.0</td>\n",
       "    </tr>\n",
       "    <tr>\n",
       "      <th>2</th>\n",
       "      <td>7/25/2011</td>\n",
       "      <td>: wednesday , june 06 , 2001 10:00 am-11:00 ( ...</td>\n",
       "      <td>0</td>\n",
       "      <td>2</td>\n",
       "      <td>158.0</td>\n",
       "      <td>79.000000</td>\n",
       "      <td>47.0</td>\n",
       "    </tr>\n",
       "    <tr>\n",
       "      <th>3</th>\n",
       "      <td>3/25/2010</td>\n",
       "      <td>thinking papasitos ( meet somewhere closer tim...</td>\n",
       "      <td>0</td>\n",
       "      <td>3</td>\n",
       "      <td>113.0</td>\n",
       "      <td>37.666667</td>\n",
       "      <td>19.0</td>\n",
       "    </tr>\n",
       "    <tr>\n",
       "      <th>4</th>\n",
       "      <td>5/21/2011</td>\n",
       "      <td>since never gave $ 20 last time bet cu/texas ,...</td>\n",
       "      <td>1</td>\n",
       "      <td>6</td>\n",
       "      <td>137.0</td>\n",
       "      <td>22.833333</td>\n",
       "      <td>27.0</td>\n",
       "    </tr>\n",
       "  </tbody>\n",
       "</table>\n",
       "</div>"
      ],
      "text/plain": [
       "        date                                     processed_text  \\\n",
       "0  5/10/2010  enronoptions announcement updated enronoptions...   \n",
       "1  7/29/2010  marc , unfortunately , today going work revenu...   \n",
       "2  7/25/2011  : wednesday , june 06 , 2001 10:00 am-11:00 ( ...   \n",
       "3  3/25/2010  thinking papasitos ( meet somewhere closer tim...   \n",
       "4  5/21/2011  since never gave $ 20 last time bet cu/texas ,...   \n",
       "\n",
       "   sentiment_score  message_frequency  message_length  average_message_length  \\\n",
       "0                1                  4           571.0              142.750000   \n",
       "1                1                  5           230.0               46.000000   \n",
       "2                0                  2           158.0               79.000000   \n",
       "3                0                  3           113.0               37.666667   \n",
       "4                1                  6           137.0               22.833333   \n",
       "\n",
       "   word_count  \n",
       "0        83.0  \n",
       "1        45.0  \n",
       "2        47.0  \n",
       "3        19.0  \n",
       "4        27.0  "
      ]
     },
     "execution_count": 94,
     "metadata": {},
     "output_type": "execute_result"
    }
   ],
   "source": [
    "df.head()"
   ]
  },
  {
   "cell_type": "markdown",
   "id": "e4acf569",
   "metadata": {},
   "source": [
    "Starting the training part\n",
    "Phase 1 Test Train Split"
   ]
  },
  {
   "cell_type": "code",
   "execution_count": 95,
   "id": "8bb41887",
   "metadata": {},
   "outputs": [],
   "source": [
    "df = pd.read_csv('result/task6_pretrain.csv')\n",
    "#removing Null values\n",
    "df.dropna(inplace=True)\n",
    "#removing unwanted coloums ie. 'processed_text' and 'date'\n",
    "columns_to_drop = ['date', 'message_length','word_count']\n",
    "# Dropping the columns\n",
    "df.drop(columns=columns_to_drop, inplace=True)\n"
   ]
  },
  {
   "cell_type": "code",
   "execution_count": 96,
   "id": "ec6bb41d",
   "metadata": {},
   "outputs": [
    {
     "name": "stderr",
     "output_type": "stream",
     "text": [
      "[nltk_data] Downloading package opinion_lexicon to\n",
      "[nltk_data]     /Users/maulikdave/nltk_data...\n",
      "[nltk_data]   Package opinion_lexicon is already up-to-date!\n",
      "[nltk_data] Downloading package punkt to\n",
      "[nltk_data]     /Users/maulikdave/nltk_data...\n",
      "[nltk_data]   Package punkt is already up-to-date!\n"
     ]
    },
    {
     "data": {
      "text/plain": [
       "True"
      ]
     },
     "execution_count": 96,
     "metadata": {},
     "output_type": "execute_result"
    }
   ],
   "source": [
    "import nltk\n",
    "nltk.download('opinion_lexicon')\n",
    "nltk.download('punkt')"
   ]
  },
  {
   "cell_type": "code",
   "execution_count": 97,
   "id": "380e78c8",
   "metadata": {},
   "outputs": [],
   "source": [
    "#Adding negative word count to the data using NLTK library\n",
    "\n",
    "from nltk.corpus import opinion_lexicon\n",
    "from nltk.tokenize import word_tokenize\n",
    "\n",
    "# Load negative word list from NLTK\n",
    "negative_words = set(opinion_lexicon.negative())\n",
    "positive_words = set(opinion_lexicon.positive())\n",
    "\n",
    "# Function to count negative words in a sentence\n",
    "def count_negative_words(text):\n",
    "    words = word_tokenize(text.lower())\n",
    "    return sum(1 for word in words if word in negative_words)\n",
    "def count_positive_words(text):\n",
    "    words = word_tokenize(text.lower())\n",
    "    return sum(1 for word in words if word in positive_words)\n",
    "# Apply to DataFrame\n",
    "df['negative_word_count'] = df['processed_text'].apply(count_negative_words)\n",
    "df['positive_word_count'] = df['processed_text'].apply(count_positive_words)\n",
    "\n"
   ]
  },
  {
   "cell_type": "code",
   "execution_count": 98,
   "id": "3a3b3965",
   "metadata": {},
   "outputs": [],
   "source": [
    "#Normalising the data\n",
    "from sklearn.preprocessing import MinMaxScaler\n",
    "scaler = MinMaxScaler()\n",
    "df[['message_frequency', 'average_message_length','negative_word_count','positive_word_count']] = scaler.fit_transform(df[['message_frequency', 'average_message_length','negative_word_count','positive_word_count']])\n",
    "df.drop(columns='processed_text', inplace=True)\n",
    "\n",
    "\n"
   ]
  },
  {
   "cell_type": "code",
   "execution_count": 99,
   "id": "f4cb5f9f",
   "metadata": {},
   "outputs": [],
   "source": [
    "# Splitting the data into training and testing sets Target variable is 'sentiment'\n",
    "X = df.drop('sentiment_score', axis=1)  # Features\n",
    "y = df['sentiment_score']  # Target variable\n",
    "# Splitting the dataset into training and testing sets\n",
    "X_train, X_test, y_train, y_test = train_test_split(X, y, test_size=0.3, random_state=42)"
   ]
  },
  {
   "cell_type": "markdown",
   "id": "e2963aca",
   "metadata": {},
   "source": [
    "Phase 2:\n",
    "EDA"
   ]
  },
  {
   "cell_type": "code",
   "execution_count": 100,
   "id": "76175443",
   "metadata": {},
   "outputs": [
    {
     "name": "stdout",
     "output_type": "stream",
     "text": [
      "Correlation Matrix:\n",
      "                        sentiment_score  message_frequency  \\\n",
      "sentiment_score                1.000000           0.003913   \n",
      "message_frequency              0.003913           1.000000   \n",
      "average_message_length         0.157351          -0.421100   \n",
      "negative_word_count           -0.084244           0.018426   \n",
      "positive_word_count            0.281596          -0.011543   \n",
      "\n",
      "                        average_message_length  negative_word_count  \\\n",
      "sentiment_score                       0.157351            -0.084244   \n",
      "message_frequency                    -0.421100             0.018426   \n",
      "average_message_length                1.000000             0.270720   \n",
      "negative_word_count                   0.270720             1.000000   \n",
      "positive_word_count                   0.442161             0.267503   \n",
      "\n",
      "                        positive_word_count  \n",
      "sentiment_score                    0.281596  \n",
      "message_frequency                 -0.011543  \n",
      "average_message_length             0.442161  \n",
      "negative_word_count                0.267503  \n",
      "positive_word_count                1.000000  \n"
     ]
    },
    {
     "data": {
      "image/png": "[encoded data removed]",
      "text/plain": [
       "<Figure size 1000x800 with 2 Axes>"
      ]
     },
     "metadata": {},
     "output_type": "display_data"
    }
   ],
   "source": [
    "#finding relationship between the features and target variable\n",
    "correlation_matrix = df.corr()\n",
    "# Displaying the correlation matrix\n",
    "print(\"Correlation Matrix:\")\n",
    "print(correlation_matrix)\n",
    "#importing matplotlib for plotting the correlation matrix\n",
    "import matplotlib.pyplot as plt\n",
    "import seaborn as sns\n",
    "# Plotting the correlation matrix\n",
    "plt.figure(figsize=(10, 8))\n",
    "sns.heatmap(correlation_matrix, annot=True, cmap='coolwarm', fmt='.2f')\n",
    "plt.title('Correlation Matrix')\n",
    "plt.show()"
   ]
  },
  {
   "cell_type": "code",
   "execution_count": null,
   "id": "5c72f64b",
   "metadata": {},
   "outputs": [],
   "source": []
  },
  {
   "cell_type": "markdown",
   "id": "7d181824",
   "metadata": {},
   "source": [
    "Phase 3:\n",
    "Importing Libraries for the Regression model"
   ]
  },
  {
   "cell_type": "code",
   "execution_count": 101,
   "id": "acba768a",
   "metadata": {},
   "outputs": [],
   "source": [
    "#Importing sklearn libraries for the linear Regression model\n",
    "from sklearn.linear_model import LinearRegression\n",
    "from sklearn.metrics import mean_squared_error, r2_score"
   ]
  },
  {
   "cell_type": "code",
   "execution_count": 102,
   "id": "02dfe03e",
   "metadata": {},
   "outputs": [
    {
     "name": "stdout",
     "output_type": "stream",
     "text": [
      "Mean Squared Error: 0.2979914351349921\n",
      "R-squared: 0.12483356941777823\n"
     ]
    }
   ],
   "source": [
    "# Starting the training, fiiting the model\n",
    "model = LinearRegression()\n",
    "model.fit(X_train, y_train)\n",
    "# Making predictions on the test set\n",
    "y_pred = model.predict(X_test)\n",
    "\n",
    "# Evaluating the model\n",
    "mse = mean_squared_error(y_test, y_pred)\n",
    "r2 = r2_score(y_test, y_pred)\n",
    "print(f'Mean Squared Error: {mse}')\n",
    "print(f'R-squared: {r2}')\n"
   ]
  },
  {
   "cell_type": "code",
   "execution_count": 103,
   "id": "b054e033",
   "metadata": {},
   "outputs": [
    {
     "name": "stdout",
     "output_type": "stream",
     "text": [
      "Polynomial Mean Squared Error: 0.287853491879413\n",
      "Polynomial R-squared: 0.15460753794949467\n"
     ]
    }
   ],
   "source": [
    "#using polynomial linear regression\n",
    "from sklearn.preprocessing import PolynomialFeatures\n",
    "# Creating polynomial features\n",
    "poly = PolynomialFeatures(degree=2)\n",
    "X_poly = poly.fit_transform(X_train)\n",
    "# Fitting the polynomial regression model\n",
    "poly_model = LinearRegression()\n",
    "poly_model.fit(X_poly, y_train)\n",
    "# Making predictions on the test set with polynomial features\n",
    "X_test_poly = poly.transform(X_test)\n",
    "y_poly_pred = poly_model.predict(X_test_poly)\n",
    "# Evaluating the polynomial regression model\n",
    "mse_poly = mean_squared_error(y_test, y_poly_pred)\n",
    "r2_poly = r2_score(y_test, y_poly_pred)\n",
    "print(f'Polynomial Mean Squared Error: {mse_poly}')\n",
    "print(f'Polynomial R-squared: {r2_poly}')\n",
    "\n"
   ]
  }
 ],
 "metadata": {
  "kernelspec": {
   "display_name": "Python 3",
   "language": "python",
   "name": "python3"
  },
  "language_info": {
   "codemirror_mode": {
    "name": "ipython",
    "version": 3
   },
   "file_extension": ".py",
   "mimetype": "text/x-python",
   "name": "python",
   "nbconvert_exporter": "python",
   "pygments_lexer": "ipython3",
   "version": "3.13.5"
  }
 },
 "nbformat": 4,
 "nbformat_minor": 5
}
